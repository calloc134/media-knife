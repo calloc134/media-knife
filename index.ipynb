{
 "cells": [
  {
   "cell_type": "code",
   "execution_count": null,
   "metadata": {},
   "outputs": [],
   "source": [
    "!pip install fastapi uvicorn nest-asyncio "
   ]
  },
  {
   "cell_type": "code",
   "execution_count": 3,
   "metadata": {},
   "outputs": [
    {
     "ename": "ModuleNotFoundError",
     "evalue": "No module named 'google'",
     "output_type": "error",
     "traceback": [
      "\u001b[0;31m---------------------------------------------------------------------------\u001b[0m",
      "\u001b[0;31mModuleNotFoundError\u001b[0m                       Traceback (most recent call last)",
      "Cell \u001b[0;32mIn[3], line 44\u001b[0m\n\u001b[1;32m     39\u001b[0m \u001b[38;5;28;01mimport\u001b[39;00m \u001b[38;5;21;01mnest_asyncio\u001b[39;00m\n\u001b[1;32m     41\u001b[0m nest_asyncio\u001b[38;5;241m.\u001b[39mapply()\n\u001b[0;32m---> 44\u001b[0m \u001b[38;5;28;01mfrom\u001b[39;00m \u001b[38;5;21;01mgoogle\u001b[39;00m\u001b[38;5;21;01m.\u001b[39;00m\u001b[38;5;21;01mcolab\u001b[39;00m \u001b[38;5;28;01mimport\u001b[39;00m output\n\u001b[1;32m     46\u001b[0m output\u001b[38;5;241m.\u001b[39mserve_kernel_port_as_window(\u001b[38;5;241m8000\u001b[39m)\n\u001b[1;32m     47\u001b[0m \u001b[38;5;28;01mimport\u001b[39;00m \u001b[38;5;21;01muvicorn\u001b[39;00m\n",
      "\u001b[0;31mModuleNotFoundError\u001b[0m: No module named 'google'"
     ]
    }
   ],
   "source": [
    "from fastapi import FastAPI, File, UploadFile\n",
    "from fastapi.staticfiles import StaticFiles\n",
    "from pathlib import Path\n",
    "from uuid import uuid4\n",
    "from datetime import datetime\n",
    "\n",
    "app = FastAPI()\n",
    "\n",
    "\n",
    "@app.post(\"/upload\")\n",
    "async def create_upload_file(file: UploadFile = File(...)):\n",
    "    print(\"hoge\")\n",
    "    # 拡張子のみ取得\n",
    "    extension = Path(file.filename).suffix\n",
    "\n",
    "    # uuid生成\n",
    "    uuid = str(uuid4())\n",
    "    # 日付を取得\n",
    "    date = datetime.now().strftime(\"%Y%m%d%H%M%S\")\n",
    "\n",
    "    # ファイル名生成\n",
    "    safe_filename = f\"{uuid}_{date}{extension}\"\n",
    "\n",
    "    # ディレクトリが存在しなければ作成\n",
    "    save_dir = Path(\"files\")\n",
    "    save_dir.mkdir(parents=True, exist_ok=True)\n",
    "\n",
    "    # ファイル保存\n",
    "    save_path = f\"{save_dir}/{safe_filename}\"\n",
    "\n",
    "    with open(save_path, \"wb+\") as f:\n",
    "        f.write(file.file.read())\n",
    "\n",
    "    return {\"filename\": safe_filename}\n",
    "\n",
    "\n",
    "app.mount(\"/\", StaticFiles(directory=\"dist\", html=True), name=\"static\")\n",
    "\n",
    "import nest_asyncio\n",
    "\n",
    "nest_asyncio.apply()\n",
    "\n",
    "\n",
    "from google.colab import output\n",
    "\n",
    "output.serve_kernel_port_as_iframe(8000)\n",
    "\n",
    "\n",
    "import uvicorn\n",
    "\n",
    "uvicorn.run(app, port=8000, host=\"0.0.0.0\")"
   ]
  }
 ],
 "metadata": {
  "kernelspec": {
   "display_name": ".venv",
   "language": "python",
   "name": "python3"
  },
  "language_info": {
   "codemirror_mode": {
    "name": "ipython",
    "version": 3
   },
   "file_extension": ".py",
   "mimetype": "text/x-python",
   "name": "python",
   "nbconvert_exporter": "python",
   "pygments_lexer": "ipython3",
   "version": "3.12.2"
  }
 },
 "nbformat": 4,
 "nbformat_minor": 2
}
