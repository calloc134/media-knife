{
 "cells": [
  {
   "cell_type": "code",
   "execution_count": null,
   "metadata": {},
   "outputs": [],
   "source": [
    "!pip install fastapi uvicorn nest-asyncio"
   ]
  },
  {
   "cell_type": "code",
   "execution_count": null,
   "metadata": {},
   "outputs": [],
   "source": [
    "from fastapi import FastAPI\n",
    "from fastapi.staticfiles import StaticFiles\n",
    "\n",
    "\n",
    "app = FastAPI()\n",
    "\n",
    "app.mount(\"/\", StaticFiles(directory=\"static\", html=True), name=\"static\")\n",
    "\n",
    "\n",
    "output.serve_kernel_port_as_window(8000)\n",
    "import uvicorn\n",
    "\n",
    "uvicorn.run(app, port=8000, host=\"0.0.0.0\")"
   ]
  }
 ],
 "metadata": {
  "language_info": {
   "name": "python"
  }
 },
 "nbformat": 4,
 "nbformat_minor": 2
}
