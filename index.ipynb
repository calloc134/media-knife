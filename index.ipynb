{
 "cells": [
  {
   "cell_type": "code",
   "execution_count": null,
   "metadata": {},
   "outputs": [],
   "source": [
    "!pip install fastapi uvicorn nest-asyncio \n",
    "\n",
    "!apt install ffmpeg\n",
    "!pip install yt-dlp\n",
    "\n",
    "from google.colab import drive\n",
    "\n",
    "drive.mount(\"/content/drive\")\n",
    "\n",
    "# 保存用ディレクトリ作成\n",
    "import os\n",
    "\n",
    "path = \"/content/drive/MyDrive/MediaKnife\"\n",
    "os.makedirs(path, exist_ok=True)"
   ]
  },
  {
   "cell_type": "code",
   "execution_count": null,
   "metadata": {},
   "outputs": [],
   "source": [
    "from fastapi import FastAPI, File, UploadFile\n",
    "from fastapi.staticfiles import StaticFiles\n",
    "from pathlib import Path\n",
    "from uuid import uuid4\n",
    "from datetime import datetime\n",
    "\n",
    "app = FastAPI()\n",
    "\n",
    "\n",
    "@app.post(\"/upload\")\n",
    "async def create_upload_file(file: UploadFile = File(...)):\n",
    "    print(\"hoge\")\n",
    "    # 拡張子のみ取得\n",
    "    extension = Path(file.filename).suffix\n",
    "\n",
    "    # uuid生成\n",
    "    uuid = str(uuid4())\n",
    "    # 日付を取得\n",
    "    date = datetime.now().strftime(\"%Y%m%d%H%M%S\")\n",
    "\n",
    "    # ファイル名生成\n",
    "    safe_filename = f\"{uuid}_{date}{extension}\"\n",
    "\n",
    "    # ディレクトリが存在しなければ作成\n",
    "    save_dir = f\"{path}/uploads\"\n",
    "    os.makedirs(save_dir, exist_ok=True)\n",
    "\n",
    "    # ファイル保存\n",
    "    save_path = f\"{save_dir}/{safe_filename}\"\n",
    "\n",
    "    with open(save_path, \"wb+\") as f:\n",
    "        f.write(file.file.read())\n",
    "\n",
    "    return {\"filename\": safe_filename}\n",
    "\n",
    "\n",
    "# TODO: distコンテンツを取得する処理\n",
    "app.mount(\"/\", StaticFiles(directory=\"dist\", html=True), name=\"static\")\n",
    "\n",
    "import nest_asyncio\n",
    "\n",
    "nest_asyncio.apply()\n",
    "\n",
    "\n",
    "from google.colab import output\n",
    "\n",
    "output.serve_kernel_port_as_iframe(8000)\n",
    "\n",
    "\n",
    "import uvicorn\n",
    "\n",
    "uvicorn.run(app, port=8000, host=\"0.0.0.0\")"
   ]
  }
 ],
 "metadata": {
  "kernelspec": {
   "display_name": ".venv",
   "language": "python",
   "name": "python3"
  },
  "language_info": {
   "codemirror_mode": {
    "name": "ipython",
    "version": 3
   },
   "file_extension": ".py",
   "mimetype": "text/x-python",
   "name": "python",
   "nbconvert_exporter": "python",
   "pygments_lexer": "ipython3",
   "version": "3.12.2"
  }
 },
 "nbformat": 4,
 "nbformat_minor": 2
}
